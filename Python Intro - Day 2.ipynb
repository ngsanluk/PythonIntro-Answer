{
 "cells": [
  {
   "cell_type": "markdown",
   "metadata": {},
   "source": [
    "## Advanced Python Data Type\n",
    "- Built-in python collection type: ```List```, ```Tuple```, ```Set```, and ```Dictionary```\n",
    "- Besides python also has rich 3rd-party library/adddon: ```numpy```, ```panda```"
   ]
  },
  {
   "cell_type": "markdown",
   "metadata": {},
   "source": [
    "# Tuples\n",
    "- Tuples are used to store multiple items in a singel variable.\n",
    "- A tuple is a collection which is ordered and unchangeable.\n",
    "- Tuples are written with round brackets.\n",
    "\n",
    "**Example**:\n",
    "```\n",
    "student_info = (\"Johnny\", 23, \"johnny@ggmail.com\")\n",
    "print(student_info)\n",
    "```"
   ]
  },
  {
   "cell_type": "code",
   "execution_count": 1,
   "metadata": {},
   "outputs": [
    {
     "name": "stdout",
     "output_type": "stream",
     "text": [
      "('Johnny', 23, 'johnny@ggmail.com')\n"
     ]
    }
   ],
   "source": [
    "student_info = (\"Johnny\", 23, \"johnny@ggmail.com\")\n",
    "print(student_info)"
   ]
  },
  {
   "cell_type": "markdown",
   "metadata": {},
   "source": [
    "# Tuple Items\n",
    "- Tuple items are ordered, unchangeable, and allow duplicate values.\n",
    "- Tuple items are indexed, the first item has index [0], the second item has index [1] etc.\n",
    "\n",
    "```\n",
    "print(student_info[1])\n",
    "```"
   ]
  },
  {
   "cell_type": "code",
   "execution_count": 2,
   "metadata": {},
   "outputs": [
    {
     "name": "stdout",
     "output_type": "stream",
     "text": [
      "23\n"
     ]
    }
   ],
   "source": [
    "print(student_info[1])\n"
   ]
  },
  {
   "cell_type": "markdown",
   "metadata": {},
   "source": [
    "# Unpack a tuple\n",
    "```\n",
    "student_info = (\"Johnny\", 23, \"johnny@ggmail.com\")\n",
    "(name, age, email) = student_info\n",
    "print(email)\n",
    "```"
   ]
  },
  {
   "cell_type": "code",
   "execution_count": 3,
   "metadata": {},
   "outputs": [
    {
     "name": "stdout",
     "output_type": "stream",
     "text": [
      "johnny@ggmail.com\n"
     ]
    }
   ],
   "source": [
    "(name, age, email) = student_info\n",
    "print(email)"
   ]
  },
  {
   "cell_type": "markdown",
   "metadata": {},
   "source": [
    "# Set\n",
    "- A set is a collection which is unordered and unindexed. \n",
    "- In Python, sets are written with curly brackets: ```{}```.\n",
    "\n",
    "**Example**:\n",
    "```\n",
    "names = {\"April\", \"Winnie\", \"Cherry\"}\n",
    "print(names)\n",
    "names.add(\"Johnny\")\n",
    "print(names)\n",
    "names.add(\"April\")\n",
    "print(names)\n",
    "names.remove(\"Winnie\")\n",
    "print(names)\n",
    "for name in names:\n",
    "  print(name)\n",
    "```\n"
   ]
  },
  {
   "cell_type": "code",
   "execution_count": 2,
   "metadata": {},
   "outputs": [
    {
     "name": "stdout",
     "output_type": "stream",
     "text": [
      "{'April', 'Cherry', 'Winnie'}\n",
      "{'April', 'Cherry', 'Johnny', 'Winnie'}\n",
      "{'April', 'Cherry', 'Johnny', 'Winnie'}\n",
      "{'April', 'Cherry', 'Johnny'}\n",
      "April\n",
      "Cherry\n",
      "Johnny\n"
     ]
    }
   ],
   "source": [
    "names = {\"April\", \"Winnie\", \"Cherry\"}\n",
    "print(names)\n",
    "names.add(\"Johnny\")\n",
    "print(names)\n",
    "names.add(\"April\")\n",
    "print(names)\n",
    "names.remove(\"Winnie\")\n",
    "print(names)\n",
    "for name in names:\n",
    "    print(name)"
   ]
  },
  {
   "cell_type": "markdown",
   "metadata": {},
   "source": [
    "# Set Methods\n",
    "Set has many built-in methods\n",
    "- ```add()```\tAdds an element to the set\n",
    "- ```clear()```\tRemoves all the elements from the set\n",
    "- ```copy()```\tReturns a copy of the set\n",
    "- ```difference()```\tReturns a set containing the difference between two or more sets\n",
    "- ```difference_update()```\tRemoves the items in this set that are also included in another, specified set\n",
    "- ```discard()```\tRemove the specified item\n",
    "- ```intersection()```\tReturns a set, that is the intersection of two other sets\n",
    "- ```intersection_update()```\tRemoves the items in this set that are not present in other, specified set(s)\n",
    "- ```isdisjoint()```\tReturns whether two sets have a intersection or not\n",
    "- ```issubset()```\tReturns whether another set contains this set or not\n",
    "- ```issuperset()```\tReturns whether this set contains another set or not\n",
    "- ```pop()```\tRemoves an element from the set\n",
    "- ```remove()```\tRemoves the specified element\n",
    "- ```symmetric_difference()```\tReturns a set with the symmetric differences of two sets\n",
    "- ```symmetric_difference_update()```\tinserts the symmetric differences from this set and another\n",
    "- ```union()```\tReturn a set containing the union of sets\n",
    "- ```update()```\tUpdate the set with the union of this set and others"
   ]
  },
  {
   "cell_type": "markdown",
   "metadata": {},
   "source": [
    "# Dictionary\n",
    "- A dictionary is a collection which is unordered, changeable and indexed. \n",
    "- In Python dictionaries are written with curly brackets, and they have ***keys*** and ***values***.\n",
    "\n",
    "**Create and print a dictionary**:\n",
    "```\n",
    "client = {\n",
    "    \"id\": 888,\n",
    "    \"company\": \"ABC Co.\",\n",
    "    \"email\": \"hello@abc.com\"\n",
    "}\n",
    "print(client)\n",
    "print(client[\"email\"])\n",
    "print(client.get(\"company\"))\n",
    "client[\"company\"] = \"XYZ Co.\"\n",
    "print(client)\n",
    "```"
   ]
  },
  {
   "cell_type": "code",
   "execution_count": 5,
   "metadata": {},
   "outputs": [
    {
     "name": "stdout",
     "output_type": "stream",
     "text": [
      "{'id': 888, 'company': 'ABC Co.', 'email': 'hello@abc.com'}\n",
      "hello@abc.com\n",
      "ABC Co.\n",
      "{'id': 888, 'company': 'XYZ Co.', 'email': 'hello@abc.com'}\n"
     ]
    }
   ],
   "source": [
    "client = {\n",
    "    \"id\": 888,\n",
    "    \"company\": \"ABC Co.\",\n",
    "    \"email\": \"hello@abc.com\"\n",
    "}\n",
    "print(client)\n",
    "print(client[\"email\"])\n",
    "print(client.get(\"company\"))\n",
    "client[\"company\"] = \"XYZ Co.\"\n",
    "print(client)\n",
    "\n"
   ]
  },
  {
   "cell_type": "markdown",
   "metadata": {},
   "source": [
    "# Loop Through a Dictionary\n",
    "Loop through a dictionary by using a ```for``` loop\n",
    "```\n",
    "client = {\n",
    "    \"id\": 888,\n",
    "    \"company\": \"ABC Co.\",\n",
    "    \"email\": \"hello@abc.com\"\n",
    "}\n",
    "```\n",
    "\n",
    "**Getting the keys**:\n",
    "```\n",
    "for x in client:\n",
    "    print(x)\n",
    "```\n",
    "\n",
    "**Getting the values**:\n",
    "```\n",
    "for x in client.values():\n",
    "    print(x)\n",
    "```\n",
    "\n",
    "**Getting both the keys and the values**:\n",
    "```\n",
    "for key, value in client.items():\n",
    "    print(key, value)\n",
    "```"
   ]
  },
  {
   "cell_type": "code",
   "execution_count": 6,
   "metadata": {},
   "outputs": [
    {
     "name": "stdout",
     "output_type": "stream",
     "text": [
      "id 888\n",
      "company XYZ Co.\n",
      "email hello@abc.com\n"
     ]
    }
   ],
   "source": [
    "for key, value in client.items():\n",
    "    print(key, value)"
   ]
  },
  {
   "cell_type": "markdown",
   "metadata": {},
   "source": [
    "# Check if Key Exists\n",
    "To determine if a specified key is present in a dictionary use the in keyword:\n",
    "```\n",
    "client = {\n",
    "    \"id\": 888,\n",
    "    \"company\": \"ABC Co.\",\n",
    "    \"email\": \"hello@abc.com\"\n",
    "}\n",
    "if \"email\" in client:\n",
    "    print(\"email is in the Dictionaries\")\n",
    "```"
   ]
  },
  {
   "cell_type": "code",
   "execution_count": 7,
   "metadata": {},
   "outputs": [
    {
     "name": "stdout",
     "output_type": "stream",
     "text": [
      "email is in the Dictionaries\n"
     ]
    }
   ],
   "source": [
    "if \"email\" in client:\n",
    "    print(\"email is in the Dictionaries\")"
   ]
  },
  {
   "cell_type": "markdown",
   "metadata": {},
   "source": [
    "# Adding Items\n",
    "Adding an item to the dictionary is done by using a new index key and assigning a value to it\n",
    "```\n",
    "client = {\n",
    "    \"id\": 888,\n",
    "    \"company\": \"ABC Co.\",\n",
    "    \"email\": \"hello@abc.com\"\n",
    "}\n",
    "client[\"address\"] = \"Hong Kong\"\n",
    "print(client)\n",
    "```"
   ]
  },
  {
   "cell_type": "code",
   "execution_count": 8,
   "metadata": {},
   "outputs": [
    {
     "name": "stdout",
     "output_type": "stream",
     "text": [
      "{'id': 888, 'company': 'XYZ Co.', 'email': 'hello@abc.com', 'address': 'Hong Kong'}\n"
     ]
    }
   ],
   "source": [
    "client[\"address\"] = \"Hong Kong\"\n",
    "print(client)"
   ]
  },
  {
   "cell_type": "markdown",
   "metadata": {},
   "source": [
    "# Reading JSON Data From the Web\n",
    "- You need to ues `urllib` and `json`\n",
    "- Let's try to read weather forecast from: https://data.weather.gov.hk/weatherAPI/opendata/weather.php?dataType=fnd&lang=tc\n",
    "- More information about weather data: https://www.hko.gov.hk/tc/abouthko/opendata_intro.htm\n",
    "- More open data at https://data.gov.hk/en/\n",
    "- Install JSON viewer Google Chrome Add to make JSON data display more readable\n",
    "- Firefox has built-in JSON beautified display\n",
    "\n",
    "**Example**:\n",
    "```\n",
    "import urllib.request, json \n",
    "url = \"https://data.weather.gov.hk/weatherAPI/opendata/weather.php?dataType=fnd&lang=tc\"\n",
    "with urllib.request.urlopen(url) as req:\n",
    "    data = json.loads(req.read().decode())\n",
    "    print(data)\n",
    "    print(data[\"generalSituation\"])\n",
    "    print(data[\"weatherForecast\"])\n",
    "    print(data[\"weatherForecast\"][0])\n",
    "```"
   ]
  },
  {
   "cell_type": "code",
   "execution_count": 5,
   "metadata": {},
   "outputs": [
    {
     "name": "stdout",
     "output_type": "stream",
     "text": [
      "一股清勁至強風程度的偏東氣流會在未來一兩日影響華南沿岸，並在本週中期逐漸緩和，該區會有幾陣驟雨。預料週末期間位於華中的一道冷鋒會向南移動，並於星期日橫過華南沿岸地區，該區氣溫顯著下降及有幾陣雨。\n"
     ]
    }
   ],
   "source": [
    "import urllib.request, json \n",
    "url = \"https://data.weather.gov.hk/weatherAPI/opendata/weather.php?dataType=fnd&lang=tc\"\n",
    "with urllib.request.urlopen(url) as req:\n",
    "    data = json.loads(req.read().decode())\n",
    "    print(data[\"generalSituation\"])"
   ]
  },
  {
   "cell_type": "markdown",
   "metadata": {},
   "source": [
    "---\n",
    "# numpy\n",
    "- NumPy is a python library used for working with arrays.\n",
    "- It also has functions for working in domain of linear algebra, fourier transform, and matrices.\n",
    "- NumPy stands for Numerical Python.\n",
    "___"
   ]
  },
  {
   "cell_type": "markdown",
   "metadata": {},
   "source": [
    "# Why `numpy`\n",
    "- In Python we have lists that serve the purpose of arrays, but they are slow to process.\n",
    "- NumPy aims to provide an array object that is up a lot faster.\n",
    "- The array object in NumPy is called `ndarray`, it provides a lot of supporting functions that make working with `ndarray` very easy.\n",
    "- Arrays are very frequently used in data science, where speed and resources are very important.\n",
    "\n"
   ]
  },
  {
   "cell_type": "markdown",
   "metadata": {},
   "source": [
    "# Installation of numpy\n",
    "numpy is already included in anaconda, so no need to install\n",
    "\n",
    "if you use regular python, you can install with pip\n",
    "```\n",
    "pip install numpy\n",
    "```"
   ]
  },
  {
   "cell_type": "markdown",
   "metadata": {},
   "source": [
    "# import it before you use it\n",
    "- Once NumPy is installed, import it in your applications by adding the `import` keyword:\n",
    "- You will see an error message if didn't import it first\n",
    "\n",
    "```\n",
    "import numpy\n",
    "```"
   ]
  },
  {
   "cell_type": "markdown",
   "metadata": {},
   "source": [
    "# numpy as np\n",
    "NumPy is usually imported under the np alias.\n",
    "```\n",
    "import numpy as np\n",
    "print(np.__version__)\n",
    "\n",
    "```"
   ]
  },
  {
   "cell_type": "code",
   "execution_count": 7,
   "metadata": {
    "scrolled": true
   },
   "outputs": [],
   "source": [
    "import numpy as np"
   ]
  },
  {
   "cell_type": "code",
   "execution_count": 8,
   "metadata": {},
   "outputs": [
    {
     "name": "stdout",
     "output_type": "stream",
     "text": [
      "1.21.2\n"
     ]
    }
   ],
   "source": [
    "print(np.__version__)"
   ]
  },
  {
   "cell_type": "markdown",
   "metadata": {},
   "source": [
    "# Create a numpy ```ndarray``` object\n",
    "- NumPy is used to work with arrays. The array object in NumPy is called ```ndarray```.\n",
    "- We can create a NumPy ```ndarray``` object by using the ```array()``` function.\n",
    "```\n",
    "import numpy as np\n",
    "regular_array = [1, 2, 3, 4, 5]\n",
    "arr = np.array(regular_array)\n",
    "print(arr)\n",
    "print(type(arr))\n",
    "```\n"
   ]
  },
  {
   "cell_type": "code",
   "execution_count": 9,
   "metadata": {},
   "outputs": [
    {
     "name": "stdout",
     "output_type": "stream",
     "text": [
      "[1 2 3 4 5]\n",
      "<class 'numpy.ndarray'>\n"
     ]
    }
   ],
   "source": [
    "regular_array = [1, 2, 3, 4, 5]\n",
    "arr = np.array(regular_array)\n",
    "print(arr)\n",
    "print(type(arr))"
   ]
  },
  {
   "cell_type": "markdown",
   "metadata": {},
   "source": [
    "# Dimensions in Arrays\n",
    "- A dimension in arrays is the level of array depth (nested arrays).\n",
    "\n",
    "**0-D Arrays**:\n",
    "```\n",
    "import numpy as np\n",
    "arr = np.array(42)\n",
    "print(arr)\n",
    "```\n",
    "**1-D Arrays**:\n",
    "```\n",
    "import numpy as np\n",
    "arr = np.array([1, 2, 3, 4, 5])\n",
    "print(arr)\n",
    "\n",
    "```\n",
    "**2-D Arrays**:\n",
    "```\n",
    "import numpy as np\n",
    "arr = np.array([[1, 2, 3], [4, 5, 6]])\n",
    "print(arr)\n",
    "\n",
    "```\n",
    "**3-D Arrays**:\n",
    "```\n",
    "import numpy as np\n",
    "arr = np.array([[[1, 2, 3], [4, 5, 6]], [[1, 2, 3], [4, 5, 6]]])\n",
    "print(arr)\n",
    "\n",
    "```\n",
    "**Check number of dimensions**:\n",
    "```\n",
    "print(arr.ndim)\n",
    "```"
   ]
  },
  {
   "cell_type": "code",
   "execution_count": 12,
   "metadata": {},
   "outputs": [
    {
     "name": "stdout",
     "output_type": "stream",
     "text": [
      "1\n"
     ]
    }
   ],
   "source": [
    "print(arr.ndim)"
   ]
  },
  {
   "cell_type": "markdown",
   "metadata": {},
   "source": [
    "# Array Indexing\n",
    "```\n",
    "import numpy as np\n",
    "arr = np.array([1, 2, 3, 4])\n",
    "print(arr[0])\n",
    "arr2 = np.array([[1,2,3,4,5], [6,7,8,9,10]])\n",
    "print('2nd element on 1st dim: ', arr2[0, 1])\n",
    "```"
   ]
  },
  {
   "cell_type": "code",
   "execution_count": 13,
   "metadata": {},
   "outputs": [
    {
     "name": "stdout",
     "output_type": "stream",
     "text": [
      "1\n",
      "2nd element on 1st dim:  2\n"
     ]
    }
   ],
   "source": [
    "import numpy as np\n",
    "arr = np.array([1, 2, 3, 4])\n",
    "print(arr[0])\n",
    "arr2 = np.array([[1,2,3,4,5], [6,7,8,9,10]])\n",
    "print('2nd element on 1st dim: ', arr2[0, 1])"
   ]
  },
  {
   "cell_type": "markdown",
   "metadata": {},
   "source": [
    "# Slicing Arrays\n",
    "- Slicing in python means taking elements from one given index to another given index.\n",
    "- We pass slice instead of index like this: ```[start:end]```.\n",
    "- We can also define the step, like this: ```[start:end:step]```.\n",
    "- If we don't pass start its considered 0\n",
    "- If we don't pass end its considered length of array in that dimension\n",
    "- If we don't pass step its considered 1\n",
    "```\n",
    "import numpy as np\n",
    "arr = np.array([1, 2, 3, 4, 5, 6, 7])\n",
    "print(arr[1:5])\n",
    "print(arr[1:])\n",
    "print(arr[0:-3])\n",
    "print(arr[::2])\n",
    "```"
   ]
  },
  {
   "cell_type": "markdown",
   "metadata": {},
   "source": [
    "# Slicing 2-D Arrays\n",
    "```\n",
    "import numpy as np\n",
    "arr = np.array([[1, 2, 3, 4, 5], [6, 7, 8, 9, 10]])\n",
    "print(arr[1, 1:4])\n",
    "print(arr[:, 1:4])\n",
    "print(arr[0:2, 2])\n",
    "print(arr[0:2, 1:4])\n",
    "```"
   ]
  },
  {
   "cell_type": "code",
   "execution_count": 10,
   "metadata": {},
   "outputs": [],
   "source": [
    "arr = np.array([[1, 2, 3, 4, 5], [6, 7, 8, 9, 10]])"
   ]
  },
  {
   "cell_type": "code",
   "execution_count": 18,
   "metadata": {},
   "outputs": [
    {
     "name": "stdout",
     "output_type": "stream",
     "text": [
      "[[ 1  2  3  4  5]\n",
      " [ 6  7  8  9 10]]\n"
     ]
    }
   ],
   "source": [
    "print(arr[0:, :])"
   ]
  },
  {
   "cell_type": "code",
   "execution_count": null,
   "metadata": {},
   "outputs": [],
   "source": [
    "print(arr[0:2, 2])\n",
    "print(arr[0:2, 1:4])"
   ]
  },
  {
   "cell_type": "markdown",
   "metadata": {},
   "source": [
    "# Data Type in numpy\n",
    "- ```i``` - integer\n",
    "- ```b``` - boolean\n",
    "- ```u``` - unsigned integer\n",
    "- ```f``` - float\n",
    "- ```c``` - complex float\n",
    "- ```m``` - timedelta\n",
    "- ```M``` - datetime\n",
    "- ```O``` - object\n",
    "- ```S``` - string\n",
    "- ```U``` - unicode string\n",
    "- ```V``` - fixed chunk of memory for other type ( void )"
   ]
  },
  {
   "cell_type": "markdown",
   "metadata": {},
   "source": [
    "# Checking the Data Type of an Array\n",
    "- The NumPy array object has a property called `dtype` that returns the data type of the array\n",
    "```\n",
    "import numpy as np\n",
    "arr = np.array([1, 2, 3, 4])\n",
    "print(arr.dtype)\n",
    "arr2 = np.array(['apple', 'banana', 'cherry'])\n",
    "print(arr2.dtype)\n",
    "```"
   ]
  },
  {
   "cell_type": "code",
   "execution_count": 15,
   "metadata": {},
   "outputs": [
    {
     "name": "stdout",
     "output_type": "stream",
     "text": [
      "<U6\n"
     ]
    }
   ],
   "source": [
    "import numpy as np\n",
    "\n",
    "arr2 = np.array(['apple', 'banana', 'cherry'])\n",
    "print(arr2.dtype)"
   ]
  },
  {
   "cell_type": "markdown",
   "metadata": {},
   "source": [
    "# Shape of an Array\n",
    "- The shape of an array is the number of elements in each dimension.\n",
    "- NumPy arrays have an attribute called shape that returns a tuple with each index having the number of corresponding elements.\n",
    "```\n",
    "import numpy as np\n",
    "arr = np.array([[1, 2, 3, 4], [5, 6, 7, 8]])\n",
    "print(arr.shape)\n",
    "```\n"
   ]
  },
  {
   "cell_type": "code",
   "execution_count": 16,
   "metadata": {},
   "outputs": [
    {
     "name": "stdout",
     "output_type": "stream",
     "text": [
      "(2, 4)\n"
     ]
    }
   ],
   "source": [
    "import numpy as np\n",
    "arr = np.array([[1, 2, 3, 4], [5, 6, 7, 8]])\n",
    "print(arr.shape)"
   ]
  },
  {
   "cell_type": "markdown",
   "metadata": {},
   "source": [
    "# Reshapeing Arrays\n",
    "- Reshaping means changing the shape of an array.\n",
    "- The shape of an array is the number of elements in each dimension.\n",
    "- By reshaping we can add or remove dimensions or change number of elements in each dimension.\n",
    "```\n",
    "import numpy as np\n",
    "arr = np.array([1, 2, 3, 4, 5, 6, 7, 8, 9, 10, 11, 12])\n",
    "arr2d = arr.reshape(4, 3)\n",
    "arr3d = arr.reshape(2, 3, 2)\n",
    "print(arr2d)\n",
    "print(arr2d.shape)\n",
    "print(arr3d)\n",
    "print(arr3d.shape)\n",
    "print(type(arr3d.shape))\n",
    "```"
   ]
  },
  {
   "cell_type": "code",
   "execution_count": 17,
   "metadata": {},
   "outputs": [
    {
     "name": "stdout",
     "output_type": "stream",
     "text": [
      "[[ 1  2  3]\n",
      " [ 4  5  6]\n",
      " [ 7  8  9]\n",
      " [10 11 12]]\n",
      "(4, 3)\n",
      "[[[ 1  2]\n",
      "  [ 3  4]\n",
      "  [ 5  6]]\n",
      "\n",
      " [[ 7  8]\n",
      "  [ 9 10]\n",
      "  [11 12]]]\n",
      "(2, 3, 2)\n",
      "<class 'tuple'>\n"
     ]
    }
   ],
   "source": [
    "import numpy as np\n",
    "arr = np.array([1, 2, 3, 4, 5, 6, 7, 8, 9, 10, 11, 12])\n",
    "arr2d = arr.reshape(4, 3)\n",
    "arr3d = arr.reshape(2, 3, 2)\n",
    "print(arr2d)\n",
    "print(arr2d.shape)\n",
    "print(arr3d)\n",
    "print(arr3d.shape)\n",
    "print(type(arr3d.shape))"
   ]
  },
  {
   "cell_type": "markdown",
   "metadata": {},
   "source": [
    "# `arange()` method\n",
    "- `arange()` is one of the array creation routines based on numerical ranges. \n",
    "- It creates an instance of ndarray with evenly spaced values and returns the reference to it.\n",
    "\n",
    "**Syntax**:\n",
    "```\n",
    "numpy.arange([start, ]stop, [step, ], dtype=None) -> numpy.ndarray\n",
    "```\n",
    "\n",
    "**Example**:\n",
    "```\n",
    "np.arange(0, 20, 2)\n",
    "```\n"
   ]
  },
  {
   "cell_type": "code",
   "execution_count": 21,
   "metadata": {},
   "outputs": [
    {
     "data": {
      "text/plain": [
       "array([0, 2, 4, 6, 8])"
      ]
     },
     "execution_count": 21,
     "metadata": {},
     "output_type": "execute_result"
    }
   ],
   "source": [
    "np.arange(0, 10, 2)"
   ]
  },
  {
   "cell_type": "markdown",
   "metadata": {},
   "source": [
    "# `linspace()` method\n",
    "create a range of evenly spaced numbers in Python\n",
    "\n",
    "**Syntax**:\n",
    "```\n",
    "numpy.linspace([start, ]stop, [count, ]) -> numpy.ndarray\n",
    "```\n",
    "\n",
    "**Example**:\n",
    "```\n",
    "np.linspace(0, 100, 10)\n",
    "```"
   ]
  },
  {
   "cell_type": "code",
   "execution_count": 19,
   "metadata": {},
   "outputs": [
    {
     "data": {
      "text/plain": [
       "array([ 0.        ,  1.11111111,  2.22222222,  3.33333333,  4.44444444,\n",
       "        5.55555556,  6.66666667,  7.77777778,  8.88888889, 10.        ])"
      ]
     },
     "execution_count": 19,
     "metadata": {},
     "output_type": "execute_result"
    }
   ],
   "source": [
    "np.linspace(0, 10, 10)"
   ]
  },
  {
   "cell_type": "markdown",
   "metadata": {},
   "source": [
    "# Flattening the arrays\n",
    "- Flattening array means converting a multidimensional array into a 1D array.\n",
    "- We can use ```reshape(-1)``` to do this.\n",
    "**Example**:\n",
    "```\n",
    "flattened = arr3d.reshape(-1)\n",
    "print(flattened)\n",
    "```"
   ]
  },
  {
   "cell_type": "code",
   "execution_count": 20,
   "metadata": {},
   "outputs": [
    {
     "name": "stdout",
     "output_type": "stream",
     "text": [
      "[ 1  2  3  4  5  6  7  8  9 10 11 12]\n",
      "[[ 1  2  3]\n",
      " [ 4  5  6]\n",
      " [ 7  8  9]\n",
      " [10 11 12]]\n",
      "[[12 11 10]\n",
      " [ 9  8  7]\n",
      " [ 6  5  4]\n",
      " [ 3  2  1]]\n"
     ]
    }
   ],
   "source": [
    "flattened = arr3d.reshape(-1)\n",
    "print(flattened)\n",
    "print(arr2d)\n",
    "print(np.rot90(np.rot90(arr2d)))"
   ]
  },
  {
   "cell_type": "markdown",
   "metadata": {},
   "source": [
    "# Re-arranging the elements of array\n",
    "- There are a lot of functions for changing the shapes of arrays in numpy `flatten`, `ravel` and also for rearranging the elements `rot90`, `flip`, `fliplr`, `flipud` etc. \n",
    "- These fall under Intermediate to Advanced section of numpy."
   ]
  },
  {
   "cell_type": "markdown",
   "metadata": {},
   "source": [
    "# Iterating Arrays\n",
    "- Iterating means going through elements one by one.\n",
    "- As we deal with multi-dimensional arrays in numpy, we can do this using basic for loop of python.\n",
    "- If we iterate on a 1-D array it will go through each element one by one.\n",
    "```\n",
    "import numpy as np\n",
    "arr = np.array([1, 2, 3])\n",
    "for x in arr:\n",
    "    print(x)\n",
    "```\n",
    "\n",
    "**Note**: In a 2-D array it will go through all the rows for each loop"
   ]
  },
  {
   "cell_type": "code",
   "execution_count": 23,
   "metadata": {},
   "outputs": [
    {
     "name": "stdout",
     "output_type": "stream",
     "text": [
      "[1 2 3]\n",
      "[4 5 6]\n"
     ]
    }
   ],
   "source": [
    "arr = np.array([[1, 2, 3], [4, 5, 6]])\n",
    "for x in arr:\n",
    "    print(x)"
   ]
  },
  {
   "cell_type": "markdown",
   "metadata": {},
   "source": [
    "# Iterating 2D and 3D Array\n",
    "- Iterate on each scalar element of a multi dimension array:\n",
    "\n",
    "**Iterating 2D Array**:\n",
    "```\n",
    "import numpy as np\n",
    "arr = np.array([[1, 2, 3], [4, 5, 6]])\n",
    "for x in arr:\n",
    "  for y in x:\n",
    "    print(y)\n",
    "```\n",
    "\n",
    "**Iterating 3D Array**:\n",
    "```\n",
    "import numpy as np\n",
    "arr = np.array([[[1, 2, 3], [4, 5, 6]], [[7, 8, 9], [10, 11, 12]]])\n",
    "for x in arr:\n",
    "  for y in x:\n",
    "    for z in y:\n",
    "      print(z)\n",
    "```"
   ]
  },
  {
   "cell_type": "code",
   "execution_count": 24,
   "metadata": {},
   "outputs": [
    {
     "name": "stdout",
     "output_type": "stream",
     "text": [
      "1\n",
      "2\n",
      "3\n",
      "4\n",
      "5\n",
      "6\n",
      "7\n",
      "8\n"
     ]
    }
   ],
   "source": [
    "import numpy as np\n",
    "\n",
    "arr = np.array([[[1, 2], [3, 4]], [[5, 6], [7, 8]]])\n",
    "\n",
    "for x in np.nditer(arr):\n",
    "    print(x)"
   ]
  },
  {
   "cell_type": "markdown",
   "metadata": {},
   "source": [
    "# Using `nditer()`\n",
    "- The function `nditer()` is a helping function that can be used from very basic to very advanced iterations. \n",
    "- It solves some basic issues which we face in iteration, lets go through it with examples.\n",
    "\n",
    "```\n",
    "import numpy as np\n",
    "arr = np.array([[[1, 2], [3, 4]], [[5, 6], [7, 8]]])\n",
    "for x in np.nditer(arr):\n",
    "  print(x)\n",
    "```"
   ]
  },
  {
   "cell_type": "code",
   "execution_count": 25,
   "metadata": {},
   "outputs": [
    {
     "name": "stdout",
     "output_type": "stream",
     "text": [
      "1\n",
      "2\n",
      "3\n",
      "4\n",
      "5\n",
      "6\n",
      "7\n",
      "8\n"
     ]
    }
   ],
   "source": [
    "import numpy as np\n",
    "arr = np.array([[[1, 2], [3, 4]], [[5, 6], [7, 8]]])\n",
    "for x in np.nditer(arr):\n",
    "    print(x)"
   ]
  },
  {
   "cell_type": "markdown",
   "metadata": {},
   "source": [
    "# Joining numpy array\n",
    "- Joining means putting contents of two or more arrays in a single array.\n",
    "- In SQL we join tables based on a key, whereas in NumPy we join arrays by axes.\n",
    "- We pass a sequence of arrays that we want to join to the `concatenate()` function, along with the axis. If axis is not explicitly passed, it is taken as `0`.\n",
    "\n",
    "```\n",
    "import numpy as np\n",
    "arr1 = np.array([1, 2, 3])\n",
    "arr2 = np.array([4, 5, 6])\n",
    "arr = np.concatenate((arr1, arr2))\n",
    "print(arr)\n",
    "```\n"
   ]
  },
  {
   "cell_type": "code",
   "execution_count": 24,
   "metadata": {},
   "outputs": [
    {
     "name": "stdout",
     "output_type": "stream",
     "text": [
      "[1 2 3 4 5 6]\n"
     ]
    }
   ],
   "source": [
    "import numpy as np\n",
    "arr1 = np.array([1, 2, 3])\n",
    "arr2 = np.array([4, 5, 6])\n",
    "arr = np.concatenate((arr1, arr2))\n",
    "print(arr)"
   ]
  },
  {
   "cell_type": "markdown",
   "metadata": {},
   "source": [
    "# Joining 2D array\n",
    "```\n",
    "import numpy as np\n",
    "arr1 = np.array([[1, 2], [3, 4]])\n",
    "arr2 = np.array([[10, 20], [30, 40]])\n",
    "arr = np.concatenate((arr1, arr2), axis=0)\n",
    "print(arr)\n",
    "```"
   ]
  },
  {
   "cell_type": "code",
   "execution_count": 25,
   "metadata": {},
   "outputs": [
    {
     "name": "stdout",
     "output_type": "stream",
     "text": [
      "<class 'list'>\n",
      "[array([1, 2]), array([3, 4]), array([5, 6])]\n",
      "[1 2]\n",
      "[3 4]\n",
      "[5 6]\n"
     ]
    }
   ],
   "source": [
    "import numpy as np\n",
    "arr = np.array([1, 2, 3, 4, 5, 6])\n",
    "newarr = np.array_split(arr, 3)\n",
    "print(type(newarr))\n",
    "print(newarr)\n",
    "print(newarr[0])\n",
    "print(newarr[1])\n",
    "print(newarr[2])"
   ]
  },
  {
   "cell_type": "markdown",
   "metadata": {},
   "source": [
    "# Splitting Array\n",
    "- Use `array_split()` for splitting arrays\n",
    "- Pass it the array we want to split and the number of splits\n",
    "\n",
    "```\n",
    "import numpy as np\n",
    "arr = np.array([1, 2, 3, 4, 5, 6])\n",
    "newarr = np.array_split(arr, 3)\n",
    "print(newarr)\n",
    "print(newarr[0])\n",
    "```\n",
    "*The return value is an array containing three arrays*"
   ]
  },
  {
   "cell_type": "code",
   "execution_count": 26,
   "metadata": {},
   "outputs": [
    {
     "name": "stdout",
     "output_type": "stream",
     "text": [
      "[array([1, 2]), array([3, 4]), array([5, 6])]\n",
      "[3 4]\n",
      "[5 6]\n"
     ]
    }
   ],
   "source": [
    "import numpy as np\n",
    "arr = np.array([1, 2, 3, 4, 5, 6])\n",
    "newarr = np.array_split(arr, 3)\n",
    "print(newarr)\n",
    "print(newarr[1])\n",
    "print(newarr[2])"
   ]
  },
  {
   "cell_type": "markdown",
   "metadata": {},
   "source": [
    "# Splitting 2D Array\n",
    "Use the same syntax when splitting 2-D arrays.\n",
    "```\n",
    "import numpy as np\n",
    "arr = np.array([[1, 2, 3], [4, 5, 6], [7, 8, 9], [10, 11, 12], [13, 14, 15], [16, 17, 18]])\n",
    "newarr = np.array_split(arr, 3)\n",
    "print(newarr)\n",
    "```"
   ]
  },
  {
   "cell_type": "code",
   "execution_count": 26,
   "metadata": {},
   "outputs": [
    {
     "name": "stdout",
     "output_type": "stream",
     "text": [
      "[array([[ 1],\n",
      "       [ 4],\n",
      "       [ 7],\n",
      "       [10],\n",
      "       [13],\n",
      "       [16]]), array([[ 2],\n",
      "       [ 5],\n",
      "       [ 8],\n",
      "       [11],\n",
      "       [14],\n",
      "       [17]]), array([[ 3],\n",
      "       [ 6],\n",
      "       [ 9],\n",
      "       [12],\n",
      "       [15],\n",
      "       [18]])]\n"
     ]
    }
   ],
   "source": [
    "arr = np.array([[1, 2, 3], [4, 5, 6], [7, 8, 9], [10, 11, 12], [13, 14, 15], [16, 17, 18]])\n",
    "newarr = np.array_split(arr, 3, axis=1)\n",
    "print(newarr)"
   ]
  },
  {
   "cell_type": "markdown",
   "metadata": {},
   "source": [
    "# Splitting Axis - row\n",
    "- you can specify which axis you want to do the split around.\n",
    "- default splitting axis is by col (axis=0), you can split along row (axis=1)\n",
    "```\n",
    "import numpy as np\n",
    "arr = np.array([[1, 2, 3], [4, 5, 6], [7, 8, 9], [10, 11, 12], [13, 14, 15], [16, 17, 18]])\n",
    "newarr = np.array_split(arr, 3, axis=0)\n",
    "newarr2 = np.array_split(arr, 3, axis=1)\n",
    "print(newarr)\n",
    "print(newarr[0])\n",
    "print(newarr2)\n",
    "print(newarr2[0])\n",
    "```"
   ]
  },
  {
   "cell_type": "code",
   "execution_count": 28,
   "metadata": {},
   "outputs": [
    {
     "name": "stdout",
     "output_type": "stream",
     "text": [
      "[array([[1, 2, 3],\n",
      "       [4, 5, 6]]), array([[ 7,  8,  9],\n",
      "       [10, 11, 12]]), array([[13, 14, 15],\n",
      "       [16, 17, 18]])]\n",
      "[[1 2 3]\n",
      " [4 5 6]]\n",
      "[array([[ 1],\n",
      "       [ 4],\n",
      "       [ 7],\n",
      "       [10],\n",
      "       [13],\n",
      "       [16]]), array([[ 2],\n",
      "       [ 5],\n",
      "       [ 8],\n",
      "       [11],\n",
      "       [14],\n",
      "       [17]]), array([[ 3],\n",
      "       [ 6],\n",
      "       [ 9],\n",
      "       [12],\n",
      "       [15],\n",
      "       [18]])]\n",
      "[[ 1]\n",
      " [ 4]\n",
      " [ 7]\n",
      " [10]\n",
      " [13]\n",
      " [16]]\n"
     ]
    }
   ],
   "source": [
    "import numpy as np\n",
    "arr = np.array([[1, 2, 3], [4, 5, 6], [7, 8, 9], [10, 11, 12], [13, 14, 15], [16, 17, 18]])\n",
    "newarr = np.array_split(arr, 3, axis=0)\n",
    "newarr2 = np.array_split(arr, 3, axis=1)\n",
    "print(newarr)\n",
    "print(newarr[0])\n",
    "print(newarr2)\n",
    "print(newarr2[0])"
   ]
  },
  {
   "cell_type": "markdown",
   "metadata": {},
   "source": [
    "# Search\n",
    "- You can search an array for a certain value, and return the ***indexes*** that get a match.\n",
    "- To search an array, use the `where()` method.\n",
    "\n",
    "**Example**: Find the indexes(position) where the value is 4\n",
    "```\n",
    "import numpy as np\n",
    "arr = np.array([1, 2, 3, 4, 5, 4, 4])\n",
    "found = np.where(arr != 4)\n",
    "print(found)\n",
    "for pos in found:\n",
    "    print(arr[pos])\n",
    "```\n",
    "**Returned value**:\n",
    "- The example above will return a tuple: (array([3, 5, 6],)\n",
    "- Which means that the value 4 is present at index 3, 5, and 6.\n"
   ]
  },
  {
   "cell_type": "code",
   "execution_count": 34,
   "metadata": {},
   "outputs": [
    {
     "name": "stdout",
     "output_type": "stream",
     "text": [
      "(array([0, 1, 2, 4]),)\n"
     ]
    }
   ],
   "source": [
    "import numpy as np\n",
    "arr = np.array([1, 2, 3, 4, 5, 4, 4])\n",
    "found = np.where(arr != 4)\n",
    "print(found)"
   ]
  },
  {
   "cell_type": "code",
   "execution_count": 35,
   "metadata": {},
   "outputs": [
    {
     "name": "stdout",
     "output_type": "stream",
     "text": [
      "[1 2 3 5]\n"
     ]
    }
   ],
   "source": [
    "for pos in found:\n",
    "    print(arr[pos])"
   ]
  },
  {
   "cell_type": "markdown",
   "metadata": {},
   "source": [
    "# More Search\n",
    "\n",
    "**Find the indexes where the values are even**:\n",
    "```\n",
    "import numpy as np\n",
    "arr = np.array([1, 2, 3, 4, 5, 6, 7, 8])\n",
    "x = np.where(arr%2 == 0) # % is remainder operator\n",
    "print(x)\n",
    "```\n",
    "\n",
    "**Find the indexes where the values are odd**:\n",
    "```\n",
    "import numpy as np\n",
    "arr = np.arange(20)\n",
    "x = np.where(arr%2 == 1)\n",
    "print(x)\n",
    "```"
   ]
  },
  {
   "cell_type": "code",
   "execution_count": 37,
   "metadata": {},
   "outputs": [
    {
     "name": "stdout",
     "output_type": "stream",
     "text": [
      "(array([ 1,  3,  5,  7,  9, 11, 13, 15, 17, 19]),)\n"
     ]
    }
   ],
   "source": [
    "import numpy as np\n",
    "arr = np.arange(20)\n",
    "x = np.where(arr%2 == 1)\n",
    "print(x)"
   ]
  },
  {
   "cell_type": "markdown",
   "metadata": {},
   "source": [
    "# Sorting Array: `sort()`\n",
    "- Sorting means putting elements in an ordered sequence.\n",
    "- Ordered sequence is any sequence that has an order corresponding to elements, like numeric or alphabetical, ascending or descending.\n",
    "\n",
    "```\n",
    "import numpy as np\n",
    "arr = np.array([3, 2, 0, 1])\n",
    "print(np.sort(arr))\n",
    "```\n",
    "*This method returns a copy of the array, leaving the original array unchanged. Meaning not sorting in place*"
   ]
  },
  {
   "cell_type": "code",
   "execution_count": 31,
   "metadata": {},
   "outputs": [
    {
     "name": "stdout",
     "output_type": "stream",
     "text": [
      "[[2 3 4]\n",
      " [0 1 5]]\n"
     ]
    }
   ],
   "source": [
    "import numpy as np\n",
    "arr = np.array([[3, 2, 4], [5, 0, 1]])\n",
    "print(np.sort(arr))"
   ]
  },
  {
   "cell_type": "markdown",
   "metadata": {},
   "source": [
    "# Sorting 2D Array\n",
    "If you use the sort() method on a 2-D array, both arrays will be sorted:\n",
    "```\n",
    "import numpy as np\n",
    "arr = np.array([[3, 2, 4], [5, 0, 1]])\n",
    "print(np.sort(arr))\n",
    "```"
   ]
  },
  {
   "cell_type": "code",
   "execution_count": 32,
   "metadata": {},
   "outputs": [
    {
     "name": "stdout",
     "output_type": "stream",
     "text": [
      "[[2 3 4]\n",
      " [0 1 5]]\n"
     ]
    }
   ],
   "source": [
    "import numpy as np\n",
    "arr = np.array([[3, 2, 4], [5, 0, 1]])\n",
    "print(np.sort(arr))"
   ]
  },
  {
   "cell_type": "markdown",
   "metadata": {},
   "source": [
    "# Filter\n",
    "- Getting some elements out of an existing array and creating a new array out of them is called filtering.\n",
    "- You filter an array using a boolean index list: `[True, False, True, False]`\n",
    "- A boolean index list is a list of booleans corresponding to indexes in the array.\n",
    "- If the value at an index is `True`, that element is contained in the filtered array, if the value at that index is `False`, that element is excluded from the filtered array.\n",
    "\n",
    "**Example**:\n",
    "```\n",
    "import numpy as np\n",
    "arr = np.arange(40, 45)\n",
    "x = [True, False, False, False, True]\n",
    "newarr = arr[x]\n",
    "print(newarr)\n",
    "```"
   ]
  },
  {
   "cell_type": "code",
   "execution_count": 39,
   "metadata": {},
   "outputs": [
    {
     "name": "stdout",
     "output_type": "stream",
     "text": [
      "[40 44]\n"
     ]
    }
   ],
   "source": [
    "import numpy as np\n",
    "arr = np.arange(40, 45)\n",
    "x = [True, False, False, False, True]\n",
    "newarr = arr[x]\n",
    "print(newarr)"
   ]
  },
  {
   "cell_type": "markdown",
   "metadata": {},
   "source": [
    "# Create the Filter Array\n",
    "- In the example above we hard-coded the True and False values, but the common use is to create a filter array based on conditions.\n",
    "\n",
    "**Example**:\n",
    "```\n",
    "import numpy as np\n",
    "arr = np.arange(40, 45)\n",
    "filter_arr = []\n",
    "for element in arr:\n",
    "    if element > 42:\n",
    "        filter_arr.append(True)\n",
    "    else:\n",
    "        filter_arr.append(False)\n",
    "newarr = arr[filter_arr]\n",
    "print(filter_arr)\n",
    "print(newarr)\n",
    "```"
   ]
  },
  {
   "cell_type": "code",
   "execution_count": 42,
   "metadata": {},
   "outputs": [
    {
     "name": "stdout",
     "output_type": "stream",
     "text": [
      "[False, False, False, True, True]\n",
      "[43 44]\n"
     ]
    }
   ],
   "source": [
    "import numpy as np\n",
    "arr = np.arange(40, 45)\n",
    "filter_arr = []\n",
    "for element in arr:\n",
    "    if element > 42:\n",
    "        filter_arr.append(True)\n",
    "    else:\n",
    "        filter_arr.append(False)\n",
    "newarr = arr[filter_arr]\n",
    "print(filter_arr)\n",
    "print(newarr)"
   ]
  },
  {
   "cell_type": "markdown",
   "metadata": {},
   "source": [
    "# A neat approach to create filter array\n",
    "A short hand to create filter array: `filter_arr = arr > 42`\n",
    "\n",
    "```\n",
    "import numpy as np\n",
    "arr = np.arange(40, 45)\n",
    "filter_arr = arr > 42\n",
    "newarr = arr[filter_arr]\n",
    "print(filter_arr)\n",
    "print(newarr)\n",
    "```"
   ]
  },
  {
   "cell_type": "code",
   "execution_count": 43,
   "metadata": {},
   "outputs": [
    {
     "name": "stdout",
     "output_type": "stream",
     "text": [
      "[False False False  True  True]\n",
      "[43 44]\n"
     ]
    }
   ],
   "source": [
    "import numpy as np\n",
    "arr = np.arange(40, 45)\n",
    "filter_arr = arr > 42\n",
    "newarr = arr[filter_arr]\n",
    "print(filter_arr)\n",
    "print(newarr)"
   ]
  },
  {
   "cell_type": "markdown",
   "metadata": {},
   "source": [
    "# Exercise: \n",
    "Create a filter array that store the position of **even** number\n",
    "```\n",
    "import numpy as np\n",
    "numbers = np.arange(0,21)\n",
    "filter = numbers%2==0\n",
    "filtered_number = numbers[filter]\n",
    "print(filtered_number)\n",
    "```"
   ]
  },
  {
   "cell_type": "code",
   "execution_count": 44,
   "metadata": {},
   "outputs": [
    {
     "name": "stdout",
     "output_type": "stream",
     "text": [
      "[ 0  2  4  6  8 10 12 14 16 18 20]\n"
     ]
    }
   ],
   "source": [
    "numbers = np.arange(0,21)\n",
    "filter = numbers%2==0\n",
    "filtered_number = numbers[filter]\n",
    "print(filtered_number)"
   ]
  },
  {
   "cell_type": "markdown",
   "metadata": {},
   "source": [
    "# a clean version of the above codes\n",
    "```\n",
    "numbers[numbers%2==0]\n",
    "```"
   ]
  },
  {
   "cell_type": "code",
   "execution_count": 45,
   "metadata": {},
   "outputs": [
    {
     "data": {
      "text/plain": [
       "array([ 0,  2,  4,  6,  8, 10, 12, 14, 16, 18, 20])"
      ]
     },
     "execution_count": 45,
     "metadata": {},
     "output_type": "execute_result"
    }
   ],
   "source": [
    "numbers[numbers%2==0]"
   ]
  },
  {
   "cell_type": "markdown",
   "metadata": {},
   "source": [
    "# Exercise: \n",
    "Create a filter array that store the position of **odd** number\n",
    "```\n",
    "import numpy as np\n",
    "numbers = np.arange(0,21)\n",
    "filter = ??????\n",
    "filtered_number = numbers[filter]\n",
    "print(filtered_number)\n",
    "```"
   ]
  },
  {
   "cell_type": "code",
   "execution_count": 46,
   "metadata": {},
   "outputs": [
    {
     "name": "stdout",
     "output_type": "stream",
     "text": [
      "[ 1  3  5  7  9 11 13 15 17 19]\n"
     ]
    }
   ],
   "source": [
    "import numpy as np\n",
    "numbers = np.arange(0,21)\n",
    "filter = numbers%2==1\n",
    "filtered_number = numbers[filter]\n",
    "print(filtered_number)"
   ]
  },
  {
   "cell_type": "markdown",
   "metadata": {},
   "source": [
    "# Exercise: \n",
    "Create a filter array that store the position of **positive** number\n",
    "```\n",
    "import numpy as np\n",
    "profits = np.array([100, -100, 200, -200, 300, -300])\n",
    "filter = ?????\n",
    "earning = profits[filter]\n",
    "print(earning)\n",
    "```"
   ]
  },
  {
   "cell_type": "code",
   "execution_count": 48,
   "metadata": {},
   "outputs": [
    {
     "name": "stdout",
     "output_type": "stream",
     "text": [
      "[100 200 300]\n"
     ]
    }
   ],
   "source": [
    "profits = np.array([100, -100, 200, -200, 300, -300])\n",
    "filter = profits>0\n",
    "earning = profits[filter]\n",
    "print(earning)"
   ]
  },
  {
   "cell_type": "markdown",
   "metadata": {},
   "source": [
    "# Random\n",
    "NumPy offers the `random` module to work with random numbers.\n",
    "\n",
    "**Example - Generating a random int**:\n",
    "```\n",
    "from numpy import random\n",
    "x = random.randint(100)\n",
    "print(x)\n",
    "```\n",
    "\n",
    "**Example - Generating a random float**:\n",
    "```\n",
    "from numpy import random\n",
    "x = random.rand()\n",
    "print(x)\n",
    "```\n",
    "\n",
    "**To keep running a same cell**:\n",
    "Hold `COMMAND` (Mac) / `CTRL` (Windows) + `ENTER`"
   ]
  },
  {
   "cell_type": "code",
   "execution_count": 40,
   "metadata": {},
   "outputs": [
    {
     "name": "stdout",
     "output_type": "stream",
     "text": [
      "0.504325176374349\n"
     ]
    }
   ],
   "source": [
    "from numpy import random\n",
    "x = random.rand()\n",
    "print(x)"
   ]
  },
  {
   "cell_type": "markdown",
   "metadata": {},
   "source": [
    "# Generating Random Array\n",
    "The `randint()` method takes a size parameter where you can specify the shape of an array.\n",
    "\n",
    "**Example**:\n",
    "```\n",
    "from numpy import random\n",
    "x=random.randint(100, size=(3))\n",
    "y=random.randint(100, size=(3,4))\n",
    "z=random.rand(4,5)\n",
    "print(x)\n",
    "print(y)\n",
    "print(z)\n",
    "```"
   ]
  },
  {
   "cell_type": "code",
   "execution_count": 41,
   "metadata": {},
   "outputs": [
    {
     "name": "stdout",
     "output_type": "stream",
     "text": [
      "[29 81 98]\n",
      "[[93 31 82 97]\n",
      " [18 39 48 53]\n",
      " [75 79 67 16]]\n",
      "[[0.96900326 0.66797648 0.0691872  0.16449878 0.41406932]\n",
      " [0.89072425 0.29259306 0.58186195 0.80266703 0.07648344]\n",
      " [0.77056154 0.52973821 0.16067251 0.42529389 0.93244658]\n",
      " [0.01695955 0.64404631 0.6157122  0.26879115 0.23584363]]\n"
     ]
    }
   ],
   "source": [
    "from numpy import random\n",
    "x=random.randint(100, size=(3))\n",
    "y=random.randint(100, size=(3,4))\n",
    "z=random.rand(4,5)\n",
    "print(x)\n",
    "print(y)\n",
    "print(z)"
   ]
  },
  {
   "cell_type": "markdown",
   "metadata": {},
   "source": [
    "# Generating random number from array\n",
    "- The choice() method allows you to generate a random value based on an array of values.\n",
    "- The choice() method takes an array as a parameter and randomly returns one of the values.\n",
    "\n",
    "```\n",
    "from numpy import random\n",
    "x = random.choice([\"A\", \"2\", \"3\", \"4\", \"5\", \"6\", \"7\", \"8\", \"9\", \"10\", \"J\", \"Q\", \"K\"])\n",
    "y = random.choice([\"A\", \"2\", \"3\", \"4\", \"5\", \"6\", \"7\", \"8\", \"9\", \"10\", \"J\", \"Q\", \"K\"], size=(3,2))\n",
    "z = random.choice([\"A\", \"2\", \"3\", \"4\", \"5\", \"6\", \"7\", \"8\", \"9\", \"10\", \"J\", \"Q\", \"K\"], size=(3,2))\n",
    "\n",
    "print(x)\n",
    "print(y)\n",
    "print(z)\n",
    "```"
   ]
  },
  {
   "cell_type": "code",
   "execution_count": 69,
   "metadata": {},
   "outputs": [
    {
     "name": "stdout",
     "output_type": "stream",
     "text": [
      "3\n",
      "['8' '3' 'K' '8' '8']\n",
      "[['Q' '5']\n",
      " ['2' 'K']\n",
      " ['Q' '3']]\n"
     ]
    }
   ],
   "source": [
    "from numpy import random\n",
    "x = random.choice([\"A\", \"2\", \"3\", \"4\", \"5\", \"6\", \"7\", \"8\", \"9\", \"10\", \"J\", \"Q\", \"K\"])\n",
    "y = random.choice([\"A\", \"2\", \"3\", \"4\", \"5\", \"6\", \"7\", \"8\", \"9\", \"10\", \"J\", \"Q\", \"K\"], size=(5))\n",
    "z = random.choice([\"A\", \"2\", \"3\", \"4\", \"5\", \"6\", \"7\", \"8\", \"9\", \"10\", \"J\", \"Q\", \"K\"], size=(3,2))\n",
    "\n",
    "print(x)\n",
    "print(y)\n",
    "print(z)"
   ]
  },
  {
   "cell_type": "code",
   "execution_count": 70,
   "metadata": {},
   "outputs": [
    {
     "data": {
      "text/plain": [
       "'3'"
      ]
     },
     "execution_count": 70,
     "metadata": {},
     "output_type": "execute_result"
    }
   ],
   "source": [
    "x"
   ]
  },
  {
   "cell_type": "markdown",
   "metadata": {},
   "source": [
    "# NumPy ufuncs\n",
    "- ufuncs stands for \"Universal Functions\"\n",
    "- They are NumPy functions that operates on the `ndarray` object.\n",
    "- ufuncs are used to implement vectorization in NumPy which is way faster than iterating over elements.\n",
    "\n",
    "**Add the elements of tow lists**:\n",
    "\n",
    "```\n",
    "x = [1, 2, 3, 4]\n",
    "y = [100, 200, 300, 400]\n",
    "z = []\n",
    "for i, j in zip(x, y):\n",
    "  z.append(i + j)\n",
    "print(z)\n",
    "```"
   ]
  },
  {
   "cell_type": "code",
   "execution_count": 71,
   "metadata": {},
   "outputs": [
    {
     "name": "stdout",
     "output_type": "stream",
     "text": [
      "[101, 202, 303, 404]\n"
     ]
    }
   ],
   "source": [
    "x = [1, 2, 3, 4]\n",
    "y = [100, 200, 300, 400]\n",
    "z = []\n",
    "for i, j in zip(x, y):\n",
    "  z.append(i + j)\n",
    "print(z)"
   ]
  },
  {
   "cell_type": "markdown",
   "metadata": {},
   "source": [
    "# `add()` function\n",
    "You can use `add()` function to achieve the same effect as above\n",
    "```\n",
    "x = [1, 2, 3, 4]\n",
    "y = [100, 200, 300, 400]\n",
    "z = np.add(x,y)\n",
    "print(z)\n",
    "```"
   ]
  },
  {
   "cell_type": "code",
   "execution_count": 72,
   "metadata": {},
   "outputs": [
    {
     "name": "stdout",
     "output_type": "stream",
     "text": [
      "[101 202 303 404]\n"
     ]
    }
   ],
   "source": [
    "x = [1, 2, 3, 4]\n",
    "y = [100, 200, 300, 400]\n",
    "z = np.add(x,y)\n",
    "print(z)"
   ]
  },
  {
   "cell_type": "markdown",
   "metadata": {},
   "source": [
    "# Ufunc Simple Arithmetic\n",
    "You could use arithmetic operators `+` `-` `*` `/` directly between NumPy arrays\n",
    "\n",
    "but this section discusses an extension of the same where we have functions that can take any array-like objects e.g. lists, tuples etc. and perform arithmetic conditionally.\n",
    "\n",
    "```\n",
    "a = [1, 2, 3, 4]\n",
    "b = [100, 200, 300, 400]\n",
    "x = np.array([1, 2, 3, 4])\n",
    "y = np.array([100, 200, 300, 400])\n",
    "print(a)\n",
    "print(x)\n",
    "print(type(a))\n",
    "print(type(x))\n",
    "print(a*2)\n",
    "print(x*2)\n",
    "print(a+b)\n",
    "print(x+y)\n",
    "print(x+10)\n",
    "print(x*10)\n",
    "print(x/10)\n",
    "print(x%y)\n",
    "```"
   ]
  },
  {
   "cell_type": "code",
   "execution_count": 73,
   "metadata": {},
   "outputs": [
    {
     "name": "stdout",
     "output_type": "stream",
     "text": [
      "[1, 2, 3, 4]\n",
      "[1 2 3 4]\n",
      "<class 'list'>\n",
      "<class 'numpy.ndarray'>\n",
      "[1, 2, 3, 4, 1, 2, 3, 4]\n",
      "[2 4 6 8]\n",
      "[1, 2, 3, 4, 100, 200, 300, 400]\n",
      "[101 202 303 404]\n",
      "[11 12 13 14]\n",
      "[10 20 30 40]\n",
      "[0.1 0.2 0.3 0.4]\n",
      "[1 2 3 4]\n"
     ]
    }
   ],
   "source": [
    "a = [1, 2, 3, 4]\n",
    "b = [100, 200, 300, 400]\n",
    "x = np.array([1, 2, 3, 4])\n",
    "y = np.array([100, 200, 300, 400])\n",
    "print(a)\n",
    "print(x)\n",
    "print(type(a))\n",
    "print(type(x))\n",
    "print(a*2)\n",
    "print(x*2)\n",
    "print(a+b)\n",
    "print(x+y)\n",
    "print(x+10)\n",
    "print(x*10)\n",
    "print(x/10)\n",
    "print(x%y)"
   ]
  },
  {
   "cell_type": "markdown",
   "metadata": {},
   "source": [
    "# Working with String Type\n",
    "\n",
    "numpy has functions to deal with string types\n",
    "\n",
    "```\n",
    "students = [\"April\", \"Ben\", \"Cathy\", \"Danny\", \"Eve\"]\n",
    "s_nparr = np.array(students)\n",
    "np.char.str_len(s_nparr)\n",
    "s_nparr[np.char.str_len(s_nparr)==3]\n",
    "```"
   ]
  },
  {
   "cell_type": "code",
   "execution_count": 55,
   "metadata": {},
   "outputs": [],
   "source": [
    "students = [\"April\", \"Ben\", \"Cathy\", \"Danny\", \"Eve\"]\n",
    "s_nparr = np.array(students)"
   ]
  },
  {
   "cell_type": "code",
   "execution_count": 54,
   "metadata": {},
   "outputs": [
    {
     "data": {
      "text/plain": [
       "array([5, 3, 5, 5, 3])"
      ]
     },
     "execution_count": 54,
     "metadata": {},
     "output_type": "execute_result"
    }
   ],
   "source": [
    "np.char.str_len(s_nparr)"
   ]
  },
  {
   "cell_type": "code",
   "execution_count": 53,
   "metadata": {
    "scrolled": true
   },
   "outputs": [
    {
     "data": {
      "text/plain": [
       "array(['Ben', 'Eve'], dtype='<U5')"
      ]
     },
     "execution_count": 53,
     "metadata": {},
     "output_type": "execute_result"
    }
   ],
   "source": [
    "s_nparr[np.char.str_len(s_nparr)==3]"
   ]
  },
  {
   "cell_type": "markdown",
   "metadata": {},
   "source": [
    "# More on NumPy\n",
    "https://numpy.org/doc/stable/user/quickstart.html#"
   ]
  },
  {
   "cell_type": "markdown",
   "metadata": {},
   "source": [
    "# A little taste of Pandas\n",
    "- Data analysis projects heavily rely on Pandas\n",
    "- Pandas let you store and process multiple dimension data such as CSV, Excel and JSON\n",
    "- Pandas is built on top of Numpy\n",
    "- You will find Pandas usage syntaxes very similar to Numpy\n",
    "- Pandas and Numpy are often used together\n",
    "\n",
    "To use pandas, import pandas like below\n",
    "\n",
    "`import pandas as pd`\n",
    "\n",
    "To check the version of pandas\n",
    "\n",
    "`print(pd.__version__)`\n",
    "\n",
    "Often numpy is also imported\n",
    "\n",
    "`import numpy as np`"
   ]
  },
  {
   "cell_type": "code",
   "execution_count": 2,
   "metadata": {},
   "outputs": [],
   "source": [
    "import pandas as pd"
   ]
  },
  {
   "cell_type": "code",
   "execution_count": 3,
   "metadata": {},
   "outputs": [
    {
     "name": "stdout",
     "output_type": "stream",
     "text": [
      "1.3.5\n"
     ]
    }
   ],
   "source": [
    "print(pd.__version__)"
   ]
  },
  {
   "cell_type": "markdown",
   "metadata": {},
   "source": [
    "## Reading CSV File\n",
    "\n",
    "```\n",
    "df = pd.read_csv(\"./data/graduates.csv\") # df: the variable, data frame, two dimensional data\n",
    "type(df) # check the type of df\n",
    "```"
   ]
  },
  {
   "cell_type": "code",
   "execution_count": 5,
   "metadata": {},
   "outputs": [],
   "source": [
    "df = pd.read_csv(\"./data/graduates.csv\")"
   ]
  },
  {
   "cell_type": "code",
   "execution_count": 6,
   "metadata": {},
   "outputs": [
    {
     "data": {
      "text/plain": [
       "pandas.core.frame.DataFrame"
      ]
     },
     "execution_count": 6,
     "metadata": {},
     "output_type": "execute_result"
    }
   ],
   "source": [
    "type(df)"
   ]
  },
  {
   "cell_type": "markdown",
   "metadata": {},
   "source": [
    "# Pandas Data Frame\n",
    "\n",
    "```\n",
    "df.info() # show the breif information of df\n",
    "df.shape # the dimension of data frame\n",
    "df.head() # shows the first 6 rows\n",
    "df.tail() # show the last 6 rows\n",
    "df.loc[0] # retrieves the first row\n",
    "df.loc[2:5] # retrieve row two to five\n",
    "```"
   ]
  },
  {
   "cell_type": "code",
   "execution_count": 11,
   "metadata": {},
   "outputs": [
    {
     "name": "stdout",
     "output_type": "stream",
     "text": [
      "<class 'pandas.core.frame.DataFrame'>\n",
      "RangeIndex: 601 entries, 0 to 600\n",
      "Data columns (total 5 columns):\n",
      " #   Column             Non-Null Count  Dtype \n",
      "---  ------             --------------  ----- \n",
      " 0   AcademicYear       601 non-null    object\n",
      " 1   LevelOfStudy       601 non-null    object\n",
      " 2   ProgrammeCategory  601 non-null    object\n",
      " 3   Sex                601 non-null    object\n",
      " 4   Headcount          601 non-null    int64 \n",
      "dtypes: int64(1), object(4)\n",
      "memory usage: 23.6+ KB\n"
     ]
    }
   ],
   "source": [
    "df.info()"
   ]
  },
  {
   "cell_type": "code",
   "execution_count": 12,
   "metadata": {},
   "outputs": [
    {
     "data": {
      "text/plain": [
       "(601, 5)"
      ]
     },
     "execution_count": 12,
     "metadata": {},
     "output_type": "execute_result"
    }
   ],
   "source": [
    "df.shape"
   ]
  },
  {
   "cell_type": "code",
   "execution_count": 13,
   "metadata": {},
   "outputs": [
    {
     "data": {
      "text/plain": [
       "AcademicYear                     2009/10\n",
       "LevelOfStudy                  Sub-degree\n",
       "ProgrammeCategory    Arts and Humanities\n",
       "Sex                                    M\n",
       "Headcount                            158\n",
       "Name: 0, dtype: object"
      ]
     },
     "execution_count": 13,
     "metadata": {},
     "output_type": "execute_result"
    }
   ],
   "source": [
    "df.loc[0]"
   ]
  },
  {
   "cell_type": "code",
   "execution_count": 14,
   "metadata": {},
   "outputs": [
    {
     "data": {
      "text/html": [
       "<div>\n",
       "<style scoped>\n",
       "    .dataframe tbody tr th:only-of-type {\n",
       "        vertical-align: middle;\n",
       "    }\n",
       "\n",
       "    .dataframe tbody tr th {\n",
       "        vertical-align: top;\n",
       "    }\n",
       "\n",
       "    .dataframe thead th {\n",
       "        text-align: right;\n",
       "    }\n",
       "</style>\n",
       "<table border=\"1\" class=\"dataframe\">\n",
       "  <thead>\n",
       "    <tr style=\"text-align: right;\">\n",
       "      <th></th>\n",
       "      <th>AcademicYear</th>\n",
       "      <th>LevelOfStudy</th>\n",
       "      <th>ProgrammeCategory</th>\n",
       "      <th>Sex</th>\n",
       "      <th>Headcount</th>\n",
       "    </tr>\n",
       "  </thead>\n",
       "  <tbody>\n",
       "    <tr>\n",
       "      <th>2</th>\n",
       "      <td>2009/10</td>\n",
       "      <td>Sub-degree</td>\n",
       "      <td>Business and Management</td>\n",
       "      <td>M</td>\n",
       "      <td>73</td>\n",
       "    </tr>\n",
       "    <tr>\n",
       "      <th>3</th>\n",
       "      <td>2009/10</td>\n",
       "      <td>Sub-degree</td>\n",
       "      <td>Business and Management</td>\n",
       "      <td>F</td>\n",
       "      <td>227</td>\n",
       "    </tr>\n",
       "    <tr>\n",
       "      <th>4</th>\n",
       "      <td>2009/10</td>\n",
       "      <td>Sub-degree</td>\n",
       "      <td>Education</td>\n",
       "      <td>M</td>\n",
       "      <td>122</td>\n",
       "    </tr>\n",
       "    <tr>\n",
       "      <th>5</th>\n",
       "      <td>2009/10</td>\n",
       "      <td>Sub-degree</td>\n",
       "      <td>Education</td>\n",
       "      <td>F</td>\n",
       "      <td>581</td>\n",
       "    </tr>\n",
       "  </tbody>\n",
       "</table>\n",
       "</div>"
      ],
      "text/plain": [
       "  AcademicYear LevelOfStudy        ProgrammeCategory Sex  Headcount\n",
       "2      2009/10   Sub-degree  Business and Management   M         73\n",
       "3      2009/10   Sub-degree  Business and Management   F        227\n",
       "4      2009/10   Sub-degree                Education   M        122\n",
       "5      2009/10   Sub-degree                Education   F        581"
      ]
     },
     "execution_count": 14,
     "metadata": {},
     "output_type": "execute_result"
    }
   ],
   "source": [
    "df.loc[2:5]"
   ]
  },
  {
   "cell_type": "code",
   "execution_count": 15,
   "metadata": {},
   "outputs": [
    {
     "data": {
      "text/plain": [
       "0      158\n",
       "1      475\n",
       "2       73\n",
       "3      227\n",
       "4      122\n",
       "      ... \n",
       "596    234\n",
       "597    473\n",
       "598    236\n",
       "599     97\n",
       "600    135\n",
       "Name: Headcount, Length: 601, dtype: int64"
      ]
     },
     "execution_count": 15,
     "metadata": {},
     "output_type": "execute_result"
    }
   ],
   "source": [
    "df[\"Headcount\"]"
   ]
  },
  {
   "cell_type": "markdown",
   "metadata": {},
   "source": [
    "# Pandas Visualization\n",
    "\n",
    "- Filtering rows by condition\n",
    "- Producing data visualation using certain column\n",
    "\n",
    "```\n",
    "df[\"LevelOfStudy\"].unique() # shows the uniquie values of a column\n",
    "df[\"ProgrammeCategory\"].unique() # shows the uniquie values of a column\n",
    "df[df[\"LevelOfStudy\"]==\"Taught Postgraduate\"] # Filtering the rows by condition\n",
    "df_postgraduate_bm_male = df[(df[\"LevelOfStudy\"]==\"Taught Postgraduate\") \n",
    "   & (df[\"ProgrammeCategory\"]==\"Business and Management\")\n",
    "   & (df[\"Sex\"]==\"M\")\n",
    "  ] # Flitering the rows by multiple conditions\n",
    "df_postgraduate_bm_male = df_postgraduate_bm_male.set_index(\"AcademicYear\") # setting index column for chart generation\n",
    "df_postgraduate_bm_male[\"Headcount\"].plot(kind=\"bar\") # Plotting a bar chart\n",
    "```"
   ]
  },
  {
   "cell_type": "code",
   "execution_count": 16,
   "metadata": {},
   "outputs": [
    {
     "name": "stdout",
     "output_type": "stream",
     "text": [
      "<class 'pandas.core.frame.DataFrame'>\n",
      "RangeIndex: 601 entries, 0 to 600\n",
      "Data columns (total 5 columns):\n",
      " #   Column             Non-Null Count  Dtype \n",
      "---  ------             --------------  ----- \n",
      " 0   AcademicYear       601 non-null    object\n",
      " 1   LevelOfStudy       601 non-null    object\n",
      " 2   ProgrammeCategory  601 non-null    object\n",
      " 3   Sex                601 non-null    object\n",
      " 4   Headcount          601 non-null    int64 \n",
      "dtypes: int64(1), object(4)\n",
      "memory usage: 23.6+ KB\n"
     ]
    }
   ],
   "source": [
    "df.info()"
   ]
  },
  {
   "cell_type": "code",
   "execution_count": 17,
   "metadata": {},
   "outputs": [
    {
     "data": {
      "text/plain": [
       "array(['Sub-degree', 'Undergraduate', 'Taught Postgraduate',\n",
       "       'Research Postgraduate'], dtype=object)"
      ]
     },
     "execution_count": 17,
     "metadata": {},
     "output_type": "execute_result"
    }
   ],
   "source": [
    "df[\"LevelOfStudy\"].unique()"
   ]
  },
  {
   "cell_type": "code",
   "execution_count": 19,
   "metadata": {
    "scrolled": true
   },
   "outputs": [
    {
     "data": {
      "text/plain": [
       "array(['Arts and Humanities', 'Business and Management', 'Education',\n",
       "       'Engineering and Technology', 'Medicine, Dentistry and Health',\n",
       "       'Sciences', 'Social Sciences'], dtype=object)"
      ]
     },
     "execution_count": 19,
     "metadata": {},
     "output_type": "execute_result"
    }
   ],
   "source": [
    "df[\"ProgrammeCategory\"].unique()"
   ]
  },
  {
   "cell_type": "code",
   "execution_count": 28,
   "metadata": {},
   "outputs": [
    {
     "data": {
      "text/html": [
       "<div>\n",
       "<style scoped>\n",
       "    .dataframe tbody tr th:only-of-type {\n",
       "        vertical-align: middle;\n",
       "    }\n",
       "\n",
       "    .dataframe tbody tr th {\n",
       "        vertical-align: top;\n",
       "    }\n",
       "\n",
       "    .dataframe thead th {\n",
       "        text-align: right;\n",
       "    }\n",
       "</style>\n",
       "<table border=\"1\" class=\"dataframe\">\n",
       "  <thead>\n",
       "    <tr style=\"text-align: right;\">\n",
       "      <th></th>\n",
       "      <th>AcademicYear</th>\n",
       "      <th>LevelOfStudy</th>\n",
       "      <th>ProgrammeCategory</th>\n",
       "      <th>Sex</th>\n",
       "      <th>Headcount</th>\n",
       "    </tr>\n",
       "  </thead>\n",
       "  <tbody>\n",
       "    <tr>\n",
       "      <th>28</th>\n",
       "      <td>2009/10</td>\n",
       "      <td>Taught Postgraduate</td>\n",
       "      <td>Arts and Humanities</td>\n",
       "      <td>M</td>\n",
       "      <td>39</td>\n",
       "    </tr>\n",
       "    <tr>\n",
       "      <th>29</th>\n",
       "      <td>2009/10</td>\n",
       "      <td>Taught Postgraduate</td>\n",
       "      <td>Arts and Humanities</td>\n",
       "      <td>F</td>\n",
       "      <td>70</td>\n",
       "    </tr>\n",
       "    <tr>\n",
       "      <th>30</th>\n",
       "      <td>2009/10</td>\n",
       "      <td>Taught Postgraduate</td>\n",
       "      <td>Business and Management</td>\n",
       "      <td>M</td>\n",
       "      <td>5</td>\n",
       "    </tr>\n",
       "    <tr>\n",
       "      <th>31</th>\n",
       "      <td>2009/10</td>\n",
       "      <td>Taught Postgraduate</td>\n",
       "      <td>Business and Management</td>\n",
       "      <td>F</td>\n",
       "      <td>6</td>\n",
       "    </tr>\n",
       "    <tr>\n",
       "      <th>32</th>\n",
       "      <td>2009/10</td>\n",
       "      <td>Taught Postgraduate</td>\n",
       "      <td>Education</td>\n",
       "      <td>M</td>\n",
       "      <td>518</td>\n",
       "    </tr>\n",
       "    <tr>\n",
       "      <th>...</th>\n",
       "      <td>...</td>\n",
       "      <td>...</td>\n",
       "      <td>...</td>\n",
       "      <td>...</td>\n",
       "      <td>...</td>\n",
       "    </tr>\n",
       "    <tr>\n",
       "      <th>582</th>\n",
       "      <td>2019/20</td>\n",
       "      <td>Taught Postgraduate</td>\n",
       "      <td>Medicine, Dentistry and Health</td>\n",
       "      <td>F</td>\n",
       "      <td>22</td>\n",
       "    </tr>\n",
       "    <tr>\n",
       "      <th>583</th>\n",
       "      <td>2019/20</td>\n",
       "      <td>Taught Postgraduate</td>\n",
       "      <td>Sciences</td>\n",
       "      <td>M</td>\n",
       "      <td>26</td>\n",
       "    </tr>\n",
       "    <tr>\n",
       "      <th>584</th>\n",
       "      <td>2019/20</td>\n",
       "      <td>Taught Postgraduate</td>\n",
       "      <td>Sciences</td>\n",
       "      <td>F</td>\n",
       "      <td>50</td>\n",
       "    </tr>\n",
       "    <tr>\n",
       "      <th>585</th>\n",
       "      <td>2019/20</td>\n",
       "      <td>Taught Postgraduate</td>\n",
       "      <td>Social Sciences</td>\n",
       "      <td>M</td>\n",
       "      <td>110</td>\n",
       "    </tr>\n",
       "    <tr>\n",
       "      <th>586</th>\n",
       "      <td>2019/20</td>\n",
       "      <td>Taught Postgraduate</td>\n",
       "      <td>Social Sciences</td>\n",
       "      <td>F</td>\n",
       "      <td>151</td>\n",
       "    </tr>\n",
       "  </tbody>\n",
       "</table>\n",
       "<p>149 rows × 5 columns</p>\n",
       "</div>"
      ],
      "text/plain": [
       "    AcademicYear         LevelOfStudy               ProgrammeCategory Sex  \\\n",
       "28       2009/10  Taught Postgraduate             Arts and Humanities   M   \n",
       "29       2009/10  Taught Postgraduate             Arts and Humanities   F   \n",
       "30       2009/10  Taught Postgraduate         Business and Management   M   \n",
       "31       2009/10  Taught Postgraduate         Business and Management   F   \n",
       "32       2009/10  Taught Postgraduate                       Education   M   \n",
       "..           ...                  ...                             ...  ..   \n",
       "582      2019/20  Taught Postgraduate  Medicine, Dentistry and Health   F   \n",
       "583      2019/20  Taught Postgraduate                        Sciences   M   \n",
       "584      2019/20  Taught Postgraduate                        Sciences   F   \n",
       "585      2019/20  Taught Postgraduate                 Social Sciences   M   \n",
       "586      2019/20  Taught Postgraduate                 Social Sciences   F   \n",
       "\n",
       "     Headcount  \n",
       "28          39  \n",
       "29          70  \n",
       "30           5  \n",
       "31           6  \n",
       "32         518  \n",
       "..         ...  \n",
       "582         22  \n",
       "583         26  \n",
       "584         50  \n",
       "585        110  \n",
       "586        151  \n",
       "\n",
       "[149 rows x 5 columns]"
      ]
     },
     "execution_count": 28,
     "metadata": {},
     "output_type": "execute_result"
    }
   ],
   "source": [
    "df[df[\"LevelOfStudy\"]==\"Taught Postgraduate\"]"
   ]
  },
  {
   "cell_type": "code",
   "execution_count": 45,
   "metadata": {},
   "outputs": [],
   "source": [
    "df_postgraduate_bm_male = df[(df[\"LevelOfStudy\"]==\"Taught Postgraduate\") \n",
    "   & (df[\"ProgrammeCategory\"]==\"Business and Management\")\n",
    "   & (df[\"Sex\"]==\"M\")\n",
    "  ]"
   ]
  },
  {
   "cell_type": "code",
   "execution_count": 40,
   "metadata": {},
   "outputs": [
    {
     "data": {
      "text/html": [
       "<div>\n",
       "<style scoped>\n",
       "    .dataframe tbody tr th:only-of-type {\n",
       "        vertical-align: middle;\n",
       "    }\n",
       "\n",
       "    .dataframe tbody tr th {\n",
       "        vertical-align: top;\n",
       "    }\n",
       "\n",
       "    .dataframe thead th {\n",
       "        text-align: right;\n",
       "    }\n",
       "</style>\n",
       "<table border=\"1\" class=\"dataframe\">\n",
       "  <thead>\n",
       "    <tr style=\"text-align: right;\">\n",
       "      <th></th>\n",
       "      <th>AcademicYear</th>\n",
       "      <th>LevelOfStudy</th>\n",
       "      <th>ProgrammeCategory</th>\n",
       "      <th>Sex</th>\n",
       "      <th>Headcount</th>\n",
       "    </tr>\n",
       "  </thead>\n",
       "  <tbody>\n",
       "    <tr>\n",
       "      <th>31</th>\n",
       "      <td>2009/10</td>\n",
       "      <td>Taught Postgraduate</td>\n",
       "      <td>Business and Management</td>\n",
       "      <td>F</td>\n",
       "      <td>6</td>\n",
       "    </tr>\n",
       "    <tr>\n",
       "      <th>87</th>\n",
       "      <td>2010/11</td>\n",
       "      <td>Taught Postgraduate</td>\n",
       "      <td>Business and Management</td>\n",
       "      <td>F</td>\n",
       "      <td>2</td>\n",
       "    </tr>\n",
       "    <tr>\n",
       "      <th>143</th>\n",
       "      <td>2011/12</td>\n",
       "      <td>Taught Postgraduate</td>\n",
       "      <td>Business and Management</td>\n",
       "      <td>F</td>\n",
       "      <td>2</td>\n",
       "    </tr>\n",
       "    <tr>\n",
       "      <th>199</th>\n",
       "      <td>2012/13</td>\n",
       "      <td>Taught Postgraduate</td>\n",
       "      <td>Business and Management</td>\n",
       "      <td>F</td>\n",
       "      <td>1</td>\n",
       "    </tr>\n",
       "    <tr>\n",
       "      <th>255</th>\n",
       "      <td>2013/14</td>\n",
       "      <td>Taught Postgraduate</td>\n",
       "      <td>Business and Management</td>\n",
       "      <td>F</td>\n",
       "      <td>1</td>\n",
       "    </tr>\n",
       "    <tr>\n",
       "      <th>364</th>\n",
       "      <td>2015/16</td>\n",
       "      <td>Taught Postgraduate</td>\n",
       "      <td>Business and Management</td>\n",
       "      <td>F</td>\n",
       "      <td>1</td>\n",
       "    </tr>\n",
       "    <tr>\n",
       "      <th>418</th>\n",
       "      <td>2016/17</td>\n",
       "      <td>Taught Postgraduate</td>\n",
       "      <td>Business and Management</td>\n",
       "      <td>F</td>\n",
       "      <td>1</td>\n",
       "    </tr>\n",
       "    <tr>\n",
       "      <th>472</th>\n",
       "      <td>2017/18</td>\n",
       "      <td>Taught Postgraduate</td>\n",
       "      <td>Business and Management</td>\n",
       "      <td>F</td>\n",
       "      <td>1</td>\n",
       "    </tr>\n",
       "    <tr>\n",
       "      <th>526</th>\n",
       "      <td>2018/19</td>\n",
       "      <td>Taught Postgraduate</td>\n",
       "      <td>Business and Management</td>\n",
       "      <td>F</td>\n",
       "      <td>2</td>\n",
       "    </tr>\n",
       "  </tbody>\n",
       "</table>\n",
       "</div>"
      ],
      "text/plain": [
       "    AcademicYear         LevelOfStudy        ProgrammeCategory Sex  Headcount\n",
       "31       2009/10  Taught Postgraduate  Business and Management   F          6\n",
       "87       2010/11  Taught Postgraduate  Business and Management   F          2\n",
       "143      2011/12  Taught Postgraduate  Business and Management   F          2\n",
       "199      2012/13  Taught Postgraduate  Business and Management   F          1\n",
       "255      2013/14  Taught Postgraduate  Business and Management   F          1\n",
       "364      2015/16  Taught Postgraduate  Business and Management   F          1\n",
       "418      2016/17  Taught Postgraduate  Business and Management   F          1\n",
       "472      2017/18  Taught Postgraduate  Business and Management   F          1\n",
       "526      2018/19  Taught Postgraduate  Business and Management   F          2"
      ]
     },
     "execution_count": 40,
     "metadata": {},
     "output_type": "execute_result"
    }
   ],
   "source": [
    "df_postgraduate_bm_male"
   ]
  },
  {
   "cell_type": "code",
   "execution_count": 46,
   "metadata": {},
   "outputs": [],
   "source": [
    "df_postgraduate_bm_male = df_postgraduate_bm_male.set_index(\"AcademicYear\")"
   ]
  },
  {
   "cell_type": "code",
   "execution_count": 47,
   "metadata": {},
   "outputs": [
    {
     "data": {
      "text/html": [
       "<div>\n",
       "<style scoped>\n",
       "    .dataframe tbody tr th:only-of-type {\n",
       "        vertical-align: middle;\n",
       "    }\n",
       "\n",
       "    .dataframe tbody tr th {\n",
       "        vertical-align: top;\n",
       "    }\n",
       "\n",
       "    .dataframe thead th {\n",
       "        text-align: right;\n",
       "    }\n",
       "</style>\n",
       "<table border=\"1\" class=\"dataframe\">\n",
       "  <thead>\n",
       "    <tr style=\"text-align: right;\">\n",
       "      <th></th>\n",
       "      <th>LevelOfStudy</th>\n",
       "      <th>ProgrammeCategory</th>\n",
       "      <th>Sex</th>\n",
       "      <th>Headcount</th>\n",
       "    </tr>\n",
       "    <tr>\n",
       "      <th>AcademicYear</th>\n",
       "      <th></th>\n",
       "      <th></th>\n",
       "      <th></th>\n",
       "      <th></th>\n",
       "    </tr>\n",
       "  </thead>\n",
       "  <tbody>\n",
       "    <tr>\n",
       "      <th>2009/10</th>\n",
       "      <td>Taught Postgraduate</td>\n",
       "      <td>Business and Management</td>\n",
       "      <td>M</td>\n",
       "      <td>5</td>\n",
       "    </tr>\n",
       "    <tr>\n",
       "      <th>2010/11</th>\n",
       "      <td>Taught Postgraduate</td>\n",
       "      <td>Business and Management</td>\n",
       "      <td>M</td>\n",
       "      <td>3</td>\n",
       "    </tr>\n",
       "    <tr>\n",
       "      <th>2011/12</th>\n",
       "      <td>Taught Postgraduate</td>\n",
       "      <td>Business and Management</td>\n",
       "      <td>M</td>\n",
       "      <td>2</td>\n",
       "    </tr>\n",
       "    <tr>\n",
       "      <th>2012/13</th>\n",
       "      <td>Taught Postgraduate</td>\n",
       "      <td>Business and Management</td>\n",
       "      <td>M</td>\n",
       "      <td>1</td>\n",
       "    </tr>\n",
       "    <tr>\n",
       "      <th>2013/14</th>\n",
       "      <td>Taught Postgraduate</td>\n",
       "      <td>Business and Management</td>\n",
       "      <td>M</td>\n",
       "      <td>2</td>\n",
       "    </tr>\n",
       "    <tr>\n",
       "      <th>2015/16</th>\n",
       "      <td>Taught Postgraduate</td>\n",
       "      <td>Business and Management</td>\n",
       "      <td>M</td>\n",
       "      <td>1</td>\n",
       "    </tr>\n",
       "    <tr>\n",
       "      <th>2016/17</th>\n",
       "      <td>Taught Postgraduate</td>\n",
       "      <td>Business and Management</td>\n",
       "      <td>M</td>\n",
       "      <td>1</td>\n",
       "    </tr>\n",
       "    <tr>\n",
       "      <th>2017/18</th>\n",
       "      <td>Taught Postgraduate</td>\n",
       "      <td>Business and Management</td>\n",
       "      <td>M</td>\n",
       "      <td>1</td>\n",
       "    </tr>\n",
       "    <tr>\n",
       "      <th>2018/19</th>\n",
       "      <td>Taught Postgraduate</td>\n",
       "      <td>Business and Management</td>\n",
       "      <td>M</td>\n",
       "      <td>1</td>\n",
       "    </tr>\n",
       "  </tbody>\n",
       "</table>\n",
       "</div>"
      ],
      "text/plain": [
       "                     LevelOfStudy        ProgrammeCategory Sex  Headcount\n",
       "AcademicYear                                                             \n",
       "2009/10       Taught Postgraduate  Business and Management   M          5\n",
       "2010/11       Taught Postgraduate  Business and Management   M          3\n",
       "2011/12       Taught Postgraduate  Business and Management   M          2\n",
       "2012/13       Taught Postgraduate  Business and Management   M          1\n",
       "2013/14       Taught Postgraduate  Business and Management   M          2\n",
       "2015/16       Taught Postgraduate  Business and Management   M          1\n",
       "2016/17       Taught Postgraduate  Business and Management   M          1\n",
       "2017/18       Taught Postgraduate  Business and Management   M          1\n",
       "2018/19       Taught Postgraduate  Business and Management   M          1"
      ]
     },
     "execution_count": 47,
     "metadata": {},
     "output_type": "execute_result"
    }
   ],
   "source": [
    "df_postgraduate_bm_male"
   ]
  },
  {
   "cell_type": "code",
   "execution_count": 65,
   "metadata": {
    "scrolled": true
   },
   "outputs": [
    {
     "data": {
      "text/plain": [
       "<AxesSubplot:xlabel='AcademicYear'>"
      ]
     },
     "execution_count": 65,
     "metadata": {},
     "output_type": "execute_result"
    },
    {
     "data": {
      "image/png": "[encoded data removed]",
      "text/plain": [
       "<Figure size 432x288 with 1 Axes>"
      ]
     },
     "metadata": {
      "needs_background": "light"
     },
     "output_type": "display_data"
    }
   ],
   "source": [
    "df_postgraduate_bm_male[\"Headcount\"].plot(kind=\"bar\")"
   ]
  },
  {
   "cell_type": "markdown",
   "metadata": {},
   "source": [
    "# Exercise\n",
    "- Getting Realtime Currency Exchange Rates\n",
    "- Currency Rate API: https://fixer.io/\n",
    "- Register a free account\n",
    "\n",
    "### Your Task:\n",
    "Modify the the following weather data fetching script to build a live currency exchange rates mini app\n",
    "\n",
    "\n",
    "```\n",
    "import urllib.request, json \n",
    "url = \"https://data.weather.gov.hk/weatherAPI/opendata/weather.php?dataType=fnd&lang=tc\"\n",
    "with urllib.request.urlopen(url) as req:\n",
    "    data = json.loads(req.read().decode())\n",
    "    print(data)\n",
    "    print(data[\"generalSituation\"])\n",
    "    print(data[\"weatherForecast\"])\n",
    "    print(data[\"weatherForecast\"][0])\n",
    "```"
   ]
  },
  {
   "cell_type": "code",
   "execution_count": null,
   "metadata": {},
   "outputs": [],
   "source": []
  }
 ],
 "metadata": {
  "kernelspec": {
   "display_name": "Python 3 (ipykernel)",
   "language": "python",
   "name": "python3"
  },
  "language_info": {
   "codemirror_mode": {
    "name": "ipython",
    "version": 3
   },
   "file_extension": ".py",
   "mimetype": "text/x-python",
   "name": "python",
   "nbconvert_exporter": "python",
   "pygments_lexer": "ipython3",
   "version": "3.8.5"
  }
 },
 "nbformat": 4,
 "nbformat_minor": 4
}
